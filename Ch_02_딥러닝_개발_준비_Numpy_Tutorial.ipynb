{
  "cells": [
    {
      "cell_type": "markdown",
      "metadata": {
        "id": "view-in-github",
        "colab_type": "text"
      },
      "source": [
        "<a href=\"https://colab.research.google.com/github/Junga15/python-library/blob/main/Ch_02_%EB%94%A5%EB%9F%AC%EB%8B%9D_%EA%B0%9C%EB%B0%9C_%EC%A4%80%EB%B9%84_Numpy_Tutorial.ipynb\" target=\"_parent\"><img src=\"https://colab.research.google.com/assets/colab-badge.svg\" alt=\"Open In Colab\"/></a>"
      ]
    },
    {
      "cell_type": "markdown",
      "metadata": {
        "id": "xrZqbnxIGa1R"
      },
      "source": [
        "# Numpy\n",
        "\n",
        "Numpy는 Numerical Python의 줄임말로, 파이썬에서 산술 계산을 위한 가장 중요한 패키지 중 하나입니다. 과학 계산을 위한 대부분의 패키지는 Numpy의 배열 객체를 데이터 교환을 위한 공통 언어처럼 사용합니다."
      ]
    },
    {
      "cell_type": "markdown",
      "metadata": {
        "id": "K2mZO-JUG84d"
      },
      "source": [
        "### Numpy 라이브러리 import"
      ]
    },
    {
      "cell_type": "code",
      "execution_count": null,
      "metadata": {
        "id": "08IdEOt7GG_m"
      },
      "outputs": [],
      "source": [
        "import numpy as np"
      ]
    },
    {
      "cell_type": "code",
      "source": [
        "import numpy as np"
      ],
      "metadata": {
        "id": "M-PYWSyiX7VJ"
      },
      "execution_count": null,
      "outputs": []
    },
    {
      "cell_type": "markdown",
      "metadata": {
        "id": "s6CkuLG1HMrB"
      },
      "source": [
        "### Numpy ndarray\n",
        "Numpy의 핵심 기능 중 하나는 ndarray라고 하는 N차원의 배열 객체인데 파이썬에서 할 수 있는 대규모 데이터 집합을 담을 수 있는 빠르고 유연한 자료구조입니다."
      ]
    },
    {
      "cell_type": "code",
      "source": [
        "a = np.array([1, 2, 3])\n",
        "print(a, type(a))"
      ],
      "metadata": {
        "id": "TrK76D5zHM6B"
      },
      "execution_count": null,
      "outputs": []
    },
    {
      "cell_type": "code",
      "source": [
        "a = np.array([1, 2, 3])\n",
        "print(a, type(a)) #[1 2 3] <class 'numpy.ndarray'>\n",
        "a #array([1, 2, 3])"
      ],
      "metadata": {
        "colab": {
          "base_uri": "https://localhost:8080/"
        },
        "id": "8eafCFC2YFQW",
        "outputId": "3f6c38c4-4e64-460b-fdca-8eb24db50fb7"
      },
      "execution_count": null,
      "outputs": [
        {
          "output_type": "stream",
          "name": "stdout",
          "text": [
            "[1 2 3] <class 'numpy.ndarray'>\n"
          ]
        },
        {
          "output_type": "execute_result",
          "data": {
            "text/plain": [
              "array([1, 2, 3])"
            ]
          },
          "metadata": {},
          "execution_count": 8
        }
      ]
    },
    {
      "cell_type": "markdown",
      "metadata": {
        "id": "7afzYZAUHFt7"
      },
      "source": [
        "### List와 비교"
      ]
    },
    {
      "cell_type": "code",
      "execution_count": null,
      "metadata": {
        "id": "KHcKRlrsHAzx",
        "colab": {
          "base_uri": "https://localhost:8080/"
        },
        "outputId": "73ec76d4-37fc-496d-966b-0fb874dd9c9a"
      },
      "outputs": [
        {
          "output_type": "stream",
          "name": "stdout",
          "text": [
            "[1, 2, 3]\n",
            "[1 2 3]\n"
          ]
        }
      ],
      "source": [
        "L = [1, 2, 3]\n",
        "A = np.array([1, 2, 3])\n",
        "print(L)\n",
        "print(A)"
      ]
    },
    {
      "cell_type": "code",
      "source": [
        "L = [1, 2, 3]\n",
        "A = np.array([1, 2, 3])\n",
        "\n",
        "print(L) #[1, 2, 3]\n",
        "print(A) #[1 2 3]\n",
        "L \n",
        "A #array([1, 2, 3])          "
      ],
      "metadata": {
        "colab": {
          "base_uri": "https://localhost:8080/"
        },
        "id": "JOByOUSqYOws",
        "outputId": "5884323d-3f99-4d69-82da-a6e356e78d62"
      },
      "execution_count": null,
      "outputs": [
        {
          "output_type": "stream",
          "name": "stdout",
          "text": [
            "[1, 2, 3]\n",
            "[1 2 3]\n"
          ]
        },
        {
          "output_type": "execute_result",
          "data": {
            "text/plain": [
              "array([1, 2, 3])"
            ]
          },
          "metadata": {},
          "execution_count": 7
        }
      ]
    },
    {
      "cell_type": "code",
      "execution_count": null,
      "metadata": {
        "id": "XCul7Sme489Z",
        "colab": {
          "base_uri": "https://localhost:8080/"
        },
        "outputId": "3017c8de-2dcb-437d-f06e-44ab50b17224"
      },
      "outputs": [
        {
          "output_type": "execute_result",
          "data": {
            "text/plain": [
              "array([1, 2, 3])"
            ]
          },
          "metadata": {},
          "execution_count": 6
        }
      ],
      "source": [
        "A"
      ]
    },
    {
      "cell_type": "code",
      "execution_count": null,
      "metadata": {
        "id": "uWAr1LeQJXFf",
        "colab": {
          "base_uri": "https://localhost:8080/"
        },
        "outputId": "1bc47336-89be-4933-8c4a-f2ce436c6c41"
      },
      "outputs": [
        {
          "output_type": "stream",
          "name": "stdout",
          "text": [
            "1\n",
            "2\n",
            "3\n"
          ]
        }
      ],
      "source": [
        "for item in L:\n",
        "  print(item)"
      ]
    },
    {
      "cell_type": "code",
      "execution_count": null,
      "metadata": {
        "id": "bvQHbphRJerJ",
        "colab": {
          "base_uri": "https://localhost:8080/"
        },
        "outputId": "11517d10-45e8-45bf-dca8-3573a20c9dfa"
      },
      "outputs": [
        {
          "output_type": "stream",
          "name": "stdout",
          "text": [
            "1\n",
            "2\n",
            "3\n"
          ]
        }
      ],
      "source": [
        "for item in A:\n",
        "  print(item)"
      ]
    },
    {
      "cell_type": "code",
      "execution_count": null,
      "metadata": {
        "id": "LtmE2YTLJgRD",
        "colab": {
          "base_uri": "https://localhost:8080/"
        },
        "outputId": "dc6ed794-36f3-4b6b-c6c2-18459fad2e83"
      },
      "outputs": [
        {
          "output_type": "stream",
          "name": "stdout",
          "text": [
            "[1, 2, 3, 4]\n"
          ]
        }
      ],
      "source": [
        "L.append(4)\n",
        "print(L)"
      ]
    },
    {
      "cell_type": "code",
      "execution_count": null,
      "metadata": {
        "id": "PbPqKqf3JjKH",
        "colab": {
          "base_uri": "https://localhost:8080/",
          "height": 193
        },
        "outputId": "402643a1-afaa-4006-aad6-79412db1d07c"
      },
      "outputs": [
        {
          "output_type": "error",
          "ename": "AttributeError",
          "evalue": "ignored",
          "traceback": [
            "\u001b[0;31m---------------------------------------------------------------------------\u001b[0m",
            "\u001b[0;31mAttributeError\u001b[0m                            Traceback (most recent call last)",
            "\u001b[0;32m<ipython-input-80-c8c98dce37d6>\u001b[0m in \u001b[0;36m<module>\u001b[0;34m()\u001b[0m\n\u001b[0;32m----> 1\u001b[0;31m \u001b[0mA\u001b[0m \u001b[0;34m=\u001b[0m \u001b[0mA\u001b[0m\u001b[0;34m.\u001b[0m\u001b[0mappend\u001b[0m\u001b[0;34m(\u001b[0m\u001b[0;36m4\u001b[0m\u001b[0;34m)\u001b[0m\u001b[0;34m\u001b[0m\u001b[0;34m\u001b[0m\u001b[0m\n\u001b[0m\u001b[1;32m      2\u001b[0m \u001b[0mprint\u001b[0m\u001b[0;34m(\u001b[0m\u001b[0mA\u001b[0m\u001b[0;34m)\u001b[0m\u001b[0;34m\u001b[0m\u001b[0;34m\u001b[0m\u001b[0m\n",
            "\u001b[0;31mAttributeError\u001b[0m: 'numpy.ndarray' object has no attribute 'append'"
          ]
        }
      ],
      "source": [
        "A = A.append(4)\n",
        "print(A)"
      ]
    },
    {
      "cell_type": "code",
      "execution_count": null,
      "metadata": {
        "id": "6AmFS9zFJk8M",
        "colab": {
          "base_uri": "https://localhost:8080/"
        },
        "outputId": "7b33f763-6dbb-4d9a-86bb-88f0ea6916e1"
      },
      "outputs": [
        {
          "output_type": "stream",
          "name": "stdout",
          "text": [
            "[1 2 3 4]\n"
          ]
        }
      ],
      "source": [
        "A = np.append(A, 4)\n",
        "print(A)"
      ]
    },
    {
      "cell_type": "code",
      "execution_count": null,
      "metadata": {
        "id": "EFKbWtELJoHL",
        "colab": {
          "base_uri": "https://localhost:8080/"
        },
        "outputId": "d83ca93d-a256-45be-fa25-fd260ce5a273"
      },
      "outputs": [
        {
          "output_type": "stream",
          "name": "stdout",
          "text": [
            "[1, 2, 3, 5]\n"
          ]
        }
      ],
      "source": [
        "L = L + [5]\n",
        "print(L)"
      ]
    },
    {
      "cell_type": "code",
      "execution_count": null,
      "metadata": {
        "id": "aNq_XYolJxTB",
        "colab": {
          "base_uri": "https://localhost:8080/"
        },
        "outputId": "01818c87-3db7-4026-b04f-558895a1098a"
      },
      "outputs": [
        {
          "output_type": "stream",
          "name": "stdout",
          "text": [
            "[6 7 8 9]\n"
          ]
        }
      ],
      "source": [
        "A = A + np.array([5])\n",
        "print(A)"
      ]
    },
    {
      "cell_type": "code",
      "execution_count": null,
      "metadata": {
        "id": "998MZlhXJ2aH",
        "colab": {
          "base_uri": "https://localhost:8080/"
        },
        "outputId": "2bfd8231-dc97-4bb6-8d05-0ab7cdc9881a"
      },
      "outputs": [
        {
          "output_type": "stream",
          "name": "stdout",
          "text": [
            "[2, 4, 6]\n"
          ]
        }
      ],
      "source": [
        "# list의 모든 원소를 2배로 만들기\n",
        "L = [1, 2, 3]\n",
        "L2 = []\n",
        "for item in L:\n",
        "  L2.append(item*2)\n",
        "print(L2)"
      ]
    },
    {
      "cell_type": "code",
      "execution_count": null,
      "metadata": {
        "id": "yEDkQDGILdMh",
        "colab": {
          "base_uri": "https://localhost:8080/"
        },
        "outputId": "1aa912dc-21c6-4bd8-e66c-a4d429194878"
      },
      "outputs": [
        {
          "output_type": "stream",
          "name": "stdout",
          "text": [
            "[2 4 6]\n"
          ]
        }
      ],
      "source": [
        "# ndarray의 모든 원소 2배로 만들기\n",
        "A = np.array(L)\n",
        "A2 = A*2\n",
        "print(A2)"
      ]
    },
    {
      "cell_type": "code",
      "execution_count": null,
      "metadata": {
        "id": "bFmOP9giLjAj",
        "colab": {
          "base_uri": "https://localhost:8080/"
        },
        "outputId": "43bb4711-bf54-4131-9fb0-652c79f02af9"
      },
      "outputs": [
        {
          "output_type": "execute_result",
          "data": {
            "text/plain": [
              "[1, 2, 3, 1, 2, 3]"
            ]
          },
          "metadata": {},
          "execution_count": 86
        }
      ],
      "source": [
        "L * 2"
      ]
    },
    {
      "cell_type": "markdown",
      "metadata": {
        "id": "4ZrXOTkQj0AJ"
      },
      "source": [
        "### 배열\n",
        "numpy 배열은 모두 같은 유형의 값이며 음수가 아닌 정수의 튜플로 인덱싱됩니다. 차원의 수는 배열의 랭크입니다. 배열의 shape은 각 차원별 배열 크기의 튜플입니다.\n",
        "중첩 된 파이썬 리스트로부터 numpy 배열을 초기화 할 수 있고 대괄호를 사용하여 요소에 접근 할 수 있습니다. "
      ]
    },
    {
      "cell_type": "markdown",
      "metadata": {
        "id": "ZkTYBiPdLRWk"
      },
      "source": [
        "#### 배열 생성하기"
      ]
    },
    {
      "cell_type": "code",
      "execution_count": null,
      "metadata": {
        "id": "bFAPp13PMIKJ",
        "colab": {
          "base_uri": "https://localhost:8080/"
        },
        "outputId": "ac97ff21-b6f5-461a-ae15-434a44260e68"
      },
      "outputs": [
        {
          "output_type": "stream",
          "name": "stdout",
          "text": [
            "[1 2 3]\n",
            "<class 'numpy.ndarray'> 1 (3,) int64\n"
          ]
        }
      ],
      "source": [
        "a = np.array([1, 2, 3])\n",
        "print(a)\n",
        "print(type(a), a.ndim, a.shape, a.dtype)"
      ]
    },
    {
      "cell_type": "code",
      "execution_count": null,
      "metadata": {
        "id": "6omlJVa2KxQa",
        "colab": {
          "base_uri": "https://localhost:8080/"
        },
        "outputId": "246767b3-cb31-4b3a-a165-fa73f3f0bb5f"
      },
      "outputs": [
        {
          "output_type": "stream",
          "name": "stdout",
          "text": [
            "[1 2 3]\n"
          ]
        }
      ],
      "source": [
        "b = np.asarray(a)\n",
        "print(b)"
      ]
    },
    {
      "cell_type": "code",
      "execution_count": null,
      "metadata": {
        "id": "6180mdASK9xB",
        "colab": {
          "base_uri": "https://localhost:8080/"
        },
        "outputId": "856dd258-5242-4549-df68-d1832e6951d9"
      },
      "outputs": [
        {
          "output_type": "stream",
          "name": "stdout",
          "text": [
            "[9 2 3]\n",
            "[9 2 3]\n"
          ]
        }
      ],
      "source": [
        "b[0] = 9\n",
        "print(a)\n",
        "print(b)"
      ]
    },
    {
      "cell_type": "code",
      "execution_count": null,
      "metadata": {
        "id": "VaoHYHgZK-eZ",
        "colab": {
          "base_uri": "https://localhost:8080/"
        },
        "outputId": "6f277d9f-9464-4abe-e397-ab9755847b50"
      },
      "outputs": [
        {
          "output_type": "stream",
          "name": "stdout",
          "text": [
            "[9 2 3]\n"
          ]
        }
      ],
      "source": [
        "c = np.array(a)\n",
        "print(c)"
      ]
    },
    {
      "cell_type": "code",
      "execution_count": null,
      "metadata": {
        "id": "vaVXhH-5Ln2Q",
        "colab": {
          "base_uri": "https://localhost:8080/"
        },
        "outputId": "55f14f0c-bd8d-43cb-8b46-781623b9bbd0"
      },
      "outputs": [
        {
          "output_type": "stream",
          "name": "stdout",
          "text": [
            "[9 2 3]\n",
            "[9 2 3]\n",
            "[1 2 3]\n"
          ]
        }
      ],
      "source": [
        "c[0] = 1\n",
        "print(a)\n",
        "print(b)\n",
        "print(c)"
      ]
    },
    {
      "cell_type": "code",
      "execution_count": null,
      "metadata": {
        "id": "e93HPDP2Lp-w",
        "colab": {
          "base_uri": "https://localhost:8080/"
        },
        "outputId": "a4236904-de2a-4efb-8b3f-bb57789edd54"
      },
      "outputs": [
        {
          "output_type": "stream",
          "name": "stdout",
          "text": [
            "[[0. 0. 0. 0.]\n",
            " [0. 0. 0. 0.]\n",
            " [0. 0. 0. 0.]]\n"
          ]
        }
      ],
      "source": [
        "a = np.zeros((3,4))\n",
        "print(a)"
      ]
    },
    {
      "cell_type": "code",
      "execution_count": null,
      "metadata": {
        "id": "DPJTPpCpNxFP",
        "colab": {
          "base_uri": "https://localhost:8080/"
        },
        "outputId": "b5a9989b-c199-43a6-a95a-b6dba8c02673"
      },
      "outputs": [
        {
          "output_type": "stream",
          "name": "stdout",
          "text": [
            "[[1. 1.]\n",
            " [1. 1.]\n",
            " [1. 1.]\n",
            " [1. 1.]\n",
            " [1. 1.]]\n"
          ]
        }
      ],
      "source": [
        "b = np.ones((5,2))\n",
        "print(b)"
      ]
    },
    {
      "cell_type": "code",
      "execution_count": null,
      "metadata": {
        "id": "Va3vUmrkODOG",
        "colab": {
          "base_uri": "https://localhost:8080/"
        },
        "outputId": "5da8f12d-144b-4a1d-9238-8a0ab8ea38a1"
      },
      "outputs": [
        {
          "output_type": "stream",
          "name": "stdout",
          "text": [
            "[[4 4 4]\n",
            " [4 4 4]]\n"
          ]
        }
      ],
      "source": [
        "c = np.full((2,3), 4)\n",
        "print(c)"
      ]
    },
    {
      "cell_type": "code",
      "execution_count": null,
      "metadata": {
        "id": "_JDgvYhmOHa2",
        "colab": {
          "base_uri": "https://localhost:8080/"
        },
        "outputId": "dd9f4af8-0bdd-45e6-fc1f-7a03b3e7197e"
      },
      "outputs": [
        {
          "output_type": "stream",
          "name": "stdout",
          "text": [
            "[[1.80544867e-316 0.00000000e+000 0.00000000e+000]\n",
            " [0.00000000e+000 0.00000000e+000 0.00000000e+000]\n",
            " [0.00000000e+000 0.00000000e+000 0.00000000e+000]]\n"
          ]
        }
      ],
      "source": [
        "d = np.empty((3,3))\n",
        "print(d)"
      ]
    },
    {
      "cell_type": "code",
      "execution_count": null,
      "metadata": {
        "id": "TlZcwMUPOWQe",
        "colab": {
          "base_uri": "https://localhost:8080/"
        },
        "outputId": "e567aa74-9cba-4f83-f08d-b53e9ab468ab"
      },
      "outputs": [
        {
          "output_type": "stream",
          "name": "stdout",
          "text": [
            "[[0. 0. 0. 0.]\n",
            " [0. 0. 0. 0.]\n",
            " [0. 0. 0. 0.]]\n",
            "[[1. 1. 1. 1.]\n",
            " [1. 1. 1. 1.]\n",
            " [1. 1. 1. 1.]]\n",
            "[[2. 2. 2. 2.]\n",
            " [2. 2. 2. 2.]\n",
            " [2. 2. 2. 2.]]\n",
            "[[2. 2. 2. 2.]\n",
            " [2. 2. 2. 2.]\n",
            " [2. 2. 2. 2.]]\n"
          ]
        }
      ],
      "source": [
        "e = np.zeros_like(a)\n",
        "f = np.ones_like(a)\n",
        "g = np.full_like(a, 2)\n",
        "h = np.empty_like(a)\n",
        "print(e)\n",
        "print(f)\n",
        "print(g)\n",
        "print(h)"
      ]
    },
    {
      "cell_type": "code",
      "execution_count": null,
      "metadata": {
        "id": "jyELiZmyOjt-",
        "colab": {
          "base_uri": "https://localhost:8080/"
        },
        "outputId": "de468365-6163-4032-b6b4-469b2a5b6d1f"
      },
      "outputs": [
        {
          "output_type": "stream",
          "name": "stdout",
          "text": [
            "[[1. 0. 0.]\n",
            " [0. 1. 0.]\n",
            " [0. 0. 1.]]\n",
            "[[1. 0. 0.]\n",
            " [0. 1. 0.]\n",
            " [0. 0. 1.]]\n"
          ]
        }
      ],
      "source": [
        "i = np.eye(3)\n",
        "j = np.identity(3)\n",
        "print(i)\n",
        "print(j)"
      ]
    },
    {
      "cell_type": "code",
      "execution_count": null,
      "metadata": {
        "id": "_xJn7a9EaFyK",
        "colab": {
          "base_uri": "https://localhost:8080/"
        },
        "outputId": "e2fe5b44-7e2e-42cd-d12d-a35a69f277ed"
      },
      "outputs": [
        {
          "output_type": "stream",
          "name": "stdout",
          "text": [
            "[0 1 2 3 4 5 6 7 8 9]\n"
          ]
        }
      ],
      "source": [
        "k = np.arange(10)\n",
        "print(k)"
      ]
    },
    {
      "cell_type": "code",
      "execution_count": null,
      "metadata": {
        "id": "1f3AksVDQhZ_",
        "colab": {
          "base_uri": "https://localhost:8080/"
        },
        "outputId": "6612cdb0-6d93-46a5-a3ed-f37dd861d8c9"
      },
      "outputs": [
        {
          "output_type": "stream",
          "name": "stdout",
          "text": [
            "[[0.08757115 0.50926753]\n",
            " [0.09162571 0.86521043]]\n"
          ]
        }
      ],
      "source": [
        "# uniform distribution\n",
        "l = np.random.rand(2,2)\n",
        "print(l)"
      ]
    },
    {
      "cell_type": "code",
      "execution_count": null,
      "metadata": {
        "id": "pk2IMzjQQ2bY",
        "colab": {
          "base_uri": "https://localhost:8080/"
        },
        "outputId": "f15fba9b-b592-4293-b031-d7c3f3af63d2"
      },
      "outputs": [
        {
          "output_type": "stream",
          "name": "stdout",
          "text": [
            "[[ 0.13207499  0.92959008]\n",
            " [-1.10976318  1.15262204]]\n"
          ]
        }
      ],
      "source": [
        "# normal distribution\n",
        "m = np.random.randn(2,2)\n",
        "print(m)"
      ]
    },
    {
      "cell_type": "markdown",
      "metadata": {
        "id": "5yEqTzrWPr3p"
      },
      "source": [
        "#### 배열의 dtype"
      ]
    },
    {
      "cell_type": "code",
      "execution_count": null,
      "metadata": {
        "id": "E85y5Rw0O9h-",
        "colab": {
          "base_uri": "https://localhost:8080/"
        },
        "outputId": "5f9b4692-9395-41aa-92b5-c9cf83fc1e72"
      },
      "outputs": [
        {
          "output_type": "stream",
          "name": "stdout",
          "text": [
            "int64 float64 int32\n"
          ]
        }
      ],
      "source": [
        " a = np.array([1, 2, 3])\n",
        " b = np.array([1, 2, 3], dtype=np.float64)\n",
        " c = np.array([1, 2, 3], dtype=np.int32)\n",
        "\n",
        " print(a.dtype, b.dtype, c.dtype)"
      ]
    },
    {
      "cell_type": "code",
      "execution_count": null,
      "metadata": {
        "id": "TAp7Un4VXIxf",
        "colab": {
          "base_uri": "https://localhost:8080/"
        },
        "outputId": "18b4e482-8d0a-4c6c-9989-6bf4d9ab7f18"
      },
      "outputs": [
        {
          "output_type": "stream",
          "name": "stdout",
          "text": [
            "int8 int16 int32 int64\n"
          ]
        }
      ],
      "source": [
        "d = np.array([1, 2, 3], dtype='i1')\n",
        "e = np.array([1, 2, 3], dtype='i2')\n",
        "f = np.array([1, 2, 3], dtype='i4')\n",
        "g = np.array([1, 2, 3], dtype='i8')\n",
        "\n",
        "print(d.dtype, e.dtype, f.dtype, g.dtype)"
      ]
    },
    {
      "cell_type": "code",
      "execution_count": null,
      "metadata": {
        "id": "1xRPAfA_XRWh",
        "colab": {
          "base_uri": "https://localhost:8080/"
        },
        "outputId": "21de7e6c-65c8-45de-ea1a-c6b28687a321"
      },
      "outputs": [
        {
          "output_type": "stream",
          "name": "stdout",
          "text": [
            "uint8 uint16 uint32 uint64\n"
          ]
        }
      ],
      "source": [
        "d = np.array([1, 2, 3], dtype='u1')\n",
        "e = np.array([1, 2, 3], dtype='u2')\n",
        "f = np.array([1, 2, 3], dtype='u4')\n",
        "g = np.array([1, 2, 3], dtype='u8')\n",
        "\n",
        "print(d.dtype, e.dtype, f.dtype, g.dtype)"
      ]
    },
    {
      "cell_type": "code",
      "execution_count": null,
      "metadata": {
        "id": "nCGXv8fcXtJQ",
        "colab": {
          "base_uri": "https://localhost:8080/"
        },
        "outputId": "9ad67b9e-c19e-44b1-e75f-ad732ac80e02"
      },
      "outputs": [
        {
          "output_type": "stream",
          "name": "stdout",
          "text": [
            "float16 float32 float64 float128\n"
          ]
        }
      ],
      "source": [
        "h = np.array([1, 2, 3], dtype='f2')\n",
        "i = np.array([1, 2, 3], dtype='f4')\n",
        "j = np.array([1, 2, 3], dtype='f8')\n",
        "k = np.array([1, 2, 3], dtype='f16')\n",
        "\n",
        "print(h.dtype, i.dtype, j.dtype, k.dtype)"
      ]
    },
    {
      "cell_type": "code",
      "execution_count": null,
      "metadata": {
        "id": "6DCfYA1jX754",
        "colab": {
          "base_uri": "https://localhost:8080/"
        },
        "outputId": "9a5afe81-4502-4649-bc78-539154618e82"
      },
      "outputs": [
        {
          "output_type": "stream",
          "name": "stdout",
          "text": [
            "float16 float32 float64 float128\n"
          ]
        }
      ],
      "source": [
        "# h = np.array([1, 2, 3], dtype='f2')\n",
        "i = np.array([1, 2, 3], dtype='f')\n",
        "j = np.array([1, 2, 3], dtype='d')\n",
        "k = np.array([1, 2, 3], dtype='g')\n",
        "\n",
        "print(h.dtype, i.dtype, j.dtype, k.dtype)"
      ]
    },
    {
      "cell_type": "code",
      "execution_count": null,
      "metadata": {
        "id": "shEeFHUUYF5I",
        "colab": {
          "base_uri": "https://localhost:8080/"
        },
        "outputId": "0bbfb161-6d49-477e-e99c-fa4b0e21abb7"
      },
      "outputs": [
        {
          "output_type": "stream",
          "name": "stdout",
          "text": [
            "int32\n"
          ]
        }
      ],
      "source": [
        "i = i.astype(np.int32)\n",
        "print(i.dtype)"
      ]
    },
    {
      "cell_type": "code",
      "execution_count": null,
      "metadata": {
        "id": "G9pISDPSYsIg",
        "colab": {
          "base_uri": "https://localhost:8080/"
        },
        "outputId": "7cf808bf-65cc-42a9-bcc1-13731a245433"
      },
      "outputs": [
        {
          "output_type": "stream",
          "name": "stdout",
          "text": [
            "int32\n"
          ]
        }
      ],
      "source": [
        "j = j.astype(i.dtype)\n",
        "print(j.dtype)"
      ]
    },
    {
      "cell_type": "markdown",
      "metadata": {
        "id": "llB7zWtXZyL6"
      },
      "source": [
        "### 배열 indexing(색인)과 slicing(슬라이싱)\n",
        "\n"
      ]
    },
    {
      "cell_type": "markdown",
      "metadata": {
        "id": "wOQvW4eQbvwB"
      },
      "source": [
        "#### indexing, slicing 기본"
      ]
    },
    {
      "cell_type": "code",
      "execution_count": null,
      "metadata": {
        "id": "Q3uonHWyYtQQ",
        "colab": {
          "base_uri": "https://localhost:8080/"
        },
        "outputId": "7800fb05-2d95-4cd5-9328-8695d2dac15b"
      },
      "outputs": [
        {
          "output_type": "stream",
          "name": "stdout",
          "text": [
            "[0 1 2 3 4 5 6 7 8 9]\n"
          ]
        }
      ],
      "source": [
        "a = np.arange(10)\n",
        "print(a)"
      ]
    },
    {
      "cell_type": "code",
      "execution_count": null,
      "metadata": {
        "id": "sfqg_xKlW5i6",
        "colab": {
          "base_uri": "https://localhost:8080/"
        },
        "outputId": "764a2ef1-a9b9-44be-f4e3-6acd91faf488"
      },
      "outputs": [
        {
          "output_type": "stream",
          "name": "stdout",
          "text": [
            "5\n"
          ]
        }
      ],
      "source": [
        "# indexing\n",
        "print(a[5])"
      ]
    },
    {
      "cell_type": "code",
      "execution_count": null,
      "metadata": {
        "id": "4XqCLsBkW8wC",
        "colab": {
          "base_uri": "https://localhost:8080/"
        },
        "outputId": "c4c3ef9b-e510-483a-bfc7-27c209b85fb7"
      },
      "outputs": [
        {
          "output_type": "stream",
          "name": "stdout",
          "text": [
            "[5 6 7]\n"
          ]
        }
      ],
      "source": [
        "# slicing\n",
        "print(a[5:8])"
      ]
    },
    {
      "cell_type": "code",
      "execution_count": null,
      "metadata": {
        "id": "gyz3nqnCY0t8",
        "colab": {
          "base_uri": "https://localhost:8080/"
        },
        "outputId": "1f9b0377-02b3-498c-93d9-6ed4f330efc7"
      },
      "outputs": [
        {
          "output_type": "stream",
          "name": "stdout",
          "text": [
            "9\n"
          ]
        }
      ],
      "source": [
        "print(a[-1])"
      ]
    },
    {
      "cell_type": "code",
      "execution_count": null,
      "metadata": {
        "id": "zbFK8JxTW-pj",
        "colab": {
          "base_uri": "https://localhost:8080/"
        },
        "outputId": "ebd65d53-667f-4ac9-b341-9c716a1661fe"
      },
      "outputs": [
        {
          "output_type": "stream",
          "name": "stdout",
          "text": [
            "[7 8]\n"
          ]
        }
      ],
      "source": [
        "print(a[7:-1])"
      ]
    },
    {
      "cell_type": "code",
      "execution_count": null,
      "metadata": {
        "id": "lWsJ9s7wXHGR",
        "colab": {
          "base_uri": "https://localhost:8080/"
        },
        "outputId": "4d360d09-ec57-478e-f93d-010d300da759"
      },
      "outputs": [
        {
          "output_type": "stream",
          "name": "stdout",
          "text": [
            "[ 0  1  2  3  4 10 10 10  8  9]\n"
          ]
        }
      ],
      "source": [
        "a[5:8] = 10\n",
        "print(a)"
      ]
    },
    {
      "cell_type": "markdown",
      "metadata": {
        "id": "6EdXvAkKXXZN"
      },
      "source": [
        "#### indexing과 slicing의 차이\n",
        "indexing을 사용하면 항상 랭크가 감소합니다. 반면에 slicing을 사용하면 차원이 유지됩니다."
      ]
    },
    {
      "cell_type": "code",
      "execution_count": null,
      "metadata": {
        "id": "N7b-gazwXMq5",
        "colab": {
          "base_uri": "https://localhost:8080/"
        },
        "outputId": "af8fcce8-3a83-4c27-d76b-204582aedb06"
      },
      "outputs": [
        {
          "output_type": "stream",
          "name": "stdout",
          "text": [
            "[ 1  2  3  4  5  6  7  8  9 10 11 12]\n",
            "(12,)\n",
            "1\n"
          ]
        }
      ],
      "source": [
        "b = np.arange(1, 13)\n",
        "# b = b.reshape(3, 4)\n",
        "print(b)\n",
        "print(b.shape)\n",
        "print(b.ndim)"
      ]
    },
    {
      "cell_type": "code",
      "execution_count": null,
      "metadata": {
        "id": "lcjUe4erXnF4",
        "colab": {
          "base_uri": "https://localhost:8080/"
        },
        "outputId": "59e98d7d-d651-4af1-af4f-d250d6243669"
      },
      "outputs": [
        {
          "output_type": "stream",
          "name": "stdout",
          "text": [
            "2 () 0\n",
            "[2] (1,) 1\n"
          ]
        }
      ],
      "source": [
        "indexing = b[1]\n",
        "slicing = b[1:2]\n",
        "print(indexing, indexing.shape, indexing.ndim)\n",
        "print(slicing, slicing.shape, slicing.ndim)"
      ]
    },
    {
      "cell_type": "markdown",
      "metadata": {
        "id": "zgem_w-8YS1f"
      },
      "source": [
        "이것은 indexing과 slicing을 함께 사용할 때도 마찬가지입니다. indexing의 개수만큼 랭크는 감소합니다."
      ]
    },
    {
      "cell_type": "code",
      "execution_count": null,
      "metadata": {
        "id": "8Jm49XAMX5ua",
        "colab": {
          "base_uri": "https://localhost:8080/"
        },
        "outputId": "de23096d-d56b-408c-8493-1250091844da"
      },
      "outputs": [
        {
          "output_type": "stream",
          "name": "stdout",
          "text": [
            "[[ 1  2  3  4]\n",
            " [ 5  6  7  8]\n",
            " [ 9 10 11 12]]\n",
            "(3, 4)\n",
            "2\n"
          ]
        }
      ],
      "source": [
        "b = b.reshape(3, 4)\n",
        "print(b)\n",
        "print(b.shape)\n",
        "print(b.ndim)"
      ]
    },
    {
      "cell_type": "code",
      "execution_count": null,
      "metadata": {
        "id": "47rIm6HlYgdp",
        "colab": {
          "base_uri": "https://localhost:8080/"
        },
        "outputId": "849b3f1a-862d-4cc9-e75a-9c940d6626aa"
      },
      "outputs": [
        {
          "output_type": "stream",
          "name": "stdout",
          "text": [
            "[5 6 7 8] (4,) 1\n",
            "[[5 6 7 8]] (1, 4) 2\n"
          ]
        }
      ],
      "source": [
        "row_r1 = b[1, :]\n",
        "row_r2 = b[1:2, :]\n",
        "print(row_r1, row_r1.shape, row_r1.ndim)\n",
        "print(row_r2, row_r2.shape, row_r2.ndim)"
      ]
    },
    {
      "cell_type": "markdown",
      "metadata": {
        "id": "nXii8xZ7a-vk"
      },
      "source": [
        "#### slicing examples"
      ]
    },
    {
      "cell_type": "code",
      "execution_count": null,
      "metadata": {
        "id": "B3jJVaXIYu7Y",
        "colab": {
          "base_uri": "https://localhost:8080/"
        },
        "outputId": "e37cb31d-9698-4a73-c9a9-66f0bddefc26"
      },
      "outputs": [
        {
          "output_type": "stream",
          "name": "stdout",
          "text": [
            "[[[ 0  1  2  3]\n",
            "  [ 4  5  6  7]\n",
            "  [ 8  9 10 11]]\n",
            "\n",
            " [[12 13 14 15]\n",
            "  [16 17 18 19]\n",
            "  [20 21 22 23]]]\n",
            "(2, 3, 4)\n"
          ]
        }
      ],
      "source": [
        "c = np.arange(24).reshape(2,3,4)\n",
        "print(c)\n",
        "print(c.shape)"
      ]
    },
    {
      "cell_type": "code",
      "execution_count": null,
      "metadata": {
        "id": "gOFBAXxdZiO2",
        "colab": {
          "base_uri": "https://localhost:8080/"
        },
        "outputId": "44cc26fd-45eb-43fc-f9c7-dbc6c62a2532"
      },
      "outputs": [
        {
          "output_type": "stream",
          "name": "stdout",
          "text": [
            "[[[ 0]\n",
            "  [ 4]\n",
            "  [ 8]]\n",
            "\n",
            " [[12]\n",
            "  [16]\n",
            "  [20]]]\n",
            "[[[ 0]\n",
            "  [ 4]\n",
            "  [ 8]]\n",
            "\n",
            " [[12]\n",
            "  [16]\n",
            "  [20]]]\n"
          ]
        }
      ],
      "source": [
        "print(c[:,:,:1])\n",
        "print(c[...,:1])"
      ]
    },
    {
      "cell_type": "code",
      "execution_count": null,
      "metadata": {
        "id": "1A4UeH8gbEYd",
        "colab": {
          "base_uri": "https://localhost:8080/"
        },
        "outputId": "fa70f3ee-f20f-4784-e936-f54fd4c8c2ce"
      },
      "outputs": [
        {
          "output_type": "stream",
          "name": "stdout",
          "text": [
            "[[[ 0  1  2  3]\n",
            "  [ 4  5  6  7]\n",
            "  [ 8  9 10 11]]]\n",
            "[[[ 0  1  2  3]\n",
            "  [ 4  5  6  7]\n",
            "  [ 8  9 10 11]]]\n"
          ]
        }
      ],
      "source": [
        "print(c[0:1])\n",
        "print(c[0::-1])"
      ]
    },
    {
      "cell_type": "markdown",
      "metadata": {
        "id": "01DW6grybgcz"
      },
      "source": [
        "#### boolean indexing"
      ]
    },
    {
      "cell_type": "code",
      "execution_count": null,
      "metadata": {
        "id": "W92eQXCWbMK_",
        "colab": {
          "base_uri": "https://localhost:8080/"
        },
        "outputId": "a44d1ac8-4141-499b-d137-67db4df1193d"
      },
      "outputs": [
        {
          "output_type": "stream",
          "name": "stdout",
          "text": [
            "[[[ 0  1  2  3]\n",
            "  [ 4  5  6  7]\n",
            "  [ 8  9 10 11]]\n",
            "\n",
            " [[12 13 14 15]\n",
            "  [16 17 18 19]\n",
            "  [20 21 22 23]]]\n"
          ]
        }
      ],
      "source": [
        "print(c)"
      ]
    },
    {
      "cell_type": "code",
      "execution_count": null,
      "metadata": {
        "id": "9hqw2RLXcFUM",
        "colab": {
          "base_uri": "https://localhost:8080/"
        },
        "outputId": "ef262168-e1be-4d6a-8373-c6dbd5ec958b"
      },
      "outputs": [
        {
          "output_type": "stream",
          "name": "stdout",
          "text": [
            "[[[False False False False]\n",
            "  [False False False False]\n",
            "  [False False False  True]]\n",
            "\n",
            " [[ True  True  True  True]\n",
            "  [ True  True  True  True]\n",
            "  [ True  True  True  True]]]\n"
          ]
        }
      ],
      "source": [
        "bool_idx = (c > 10)\n",
        "print(bool_idx)"
      ]
    },
    {
      "cell_type": "code",
      "execution_count": null,
      "metadata": {
        "id": "vGjl3jKFcJcG",
        "colab": {
          "base_uri": "https://localhost:8080/"
        },
        "outputId": "d964ffb4-e644-4bd0-cd4b-c7f95bdf0f61"
      },
      "outputs": [
        {
          "output_type": "stream",
          "name": "stdout",
          "text": [
            "[11 12 13 14 15 16 17 18 19 20 21 22 23]\n"
          ]
        }
      ],
      "source": [
        "print(c[bool_idx])"
      ]
    },
    {
      "cell_type": "code",
      "execution_count": null,
      "metadata": {
        "id": "BgGghXYQcMlO",
        "colab": {
          "base_uri": "https://localhost:8080/"
        },
        "outputId": "b3baf9a3-b834-4db1-b678-c3461782448f"
      },
      "outputs": [
        {
          "output_type": "stream",
          "name": "stdout",
          "text": [
            "[[[ 0  1  2  3]\n",
            "  [ 4  5  6  7]\n",
            "  [ 8  9 10 -1]]\n",
            "\n",
            " [[-1 -1 -1 -1]\n",
            "  [-1 -1 -1 -1]\n",
            "  [-1 -1 -1 -1]]]\n"
          ]
        }
      ],
      "source": [
        "c[c>10] = -1\n",
        "print(c)"
      ]
    },
    {
      "cell_type": "markdown",
      "metadata": {
        "id": "bmvORV2OdSMJ"
      },
      "source": [
        "#### fancy indexing"
      ]
    },
    {
      "cell_type": "code",
      "execution_count": null,
      "metadata": {
        "id": "dCQrOklRcsu-",
        "colab": {
          "base_uri": "https://localhost:8080/"
        },
        "outputId": "02dea773-6be7-40a0-f311-513a3426c148"
      },
      "outputs": [
        {
          "output_type": "stream",
          "name": "stdout",
          "text": [
            "[[0]\n",
            " [1]\n",
            " [2]\n",
            " [3]\n",
            " [4]\n",
            " [5]\n",
            " [6]\n",
            " [7]] (8, 1)\n"
          ]
        }
      ],
      "source": [
        "import numpy as np\n",
        "d = np.arange(8).reshape(8,-1)\n",
        "print(d, d.shape)"
      ]
    },
    {
      "cell_type": "code",
      "execution_count": null,
      "metadata": {
        "id": "5mEK0MeJf3-a",
        "colab": {
          "base_uri": "https://localhost:8080/"
        },
        "outputId": "b5281b0e-18f9-4a25-d33a-72ced33746a2"
      },
      "outputs": [
        {
          "output_type": "stream",
          "name": "stdout",
          "text": [
            "[[0 0 0 0]\n",
            " [1 1 1 1]\n",
            " [2 2 2 2]\n",
            " [3 3 3 3]\n",
            " [4 4 4 4]\n",
            " [5 5 5 5]\n",
            " [6 6 6 6]\n",
            " [7 7 7 7]] (8, 4)\n"
          ]
        }
      ],
      "source": [
        "d = np.hstack((d, d, d, d))\n",
        "print(d, d.shape)"
      ]
    },
    {
      "cell_type": "code",
      "execution_count": null,
      "metadata": {
        "id": "SlU7e3UagBZr",
        "colab": {
          "base_uri": "https://localhost:8080/"
        },
        "outputId": "0899e471-1e55-43fd-bc22-ab30b4803207"
      },
      "outputs": [
        {
          "output_type": "stream",
          "name": "stdout",
          "text": [
            "[[3 3 3 3]\n",
            " [5 5 5 5]\n",
            " [1 1 1 1]\n",
            " [0 0 0 0]]\n"
          ]
        }
      ],
      "source": [
        "print(d[[3, 5, 1, 0]])"
      ]
    },
    {
      "cell_type": "code",
      "execution_count": null,
      "metadata": {
        "id": "X-gaGp9BgIY7",
        "colab": {
          "base_uri": "https://localhost:8080/"
        },
        "outputId": "954e0d9f-5a0c-4eae-abc5-dcdf49c67d4d"
      },
      "outputs": [
        {
          "output_type": "stream",
          "name": "stdout",
          "text": [
            "[[5 5 5 5]\n",
            " [3 3 3 3]\n",
            " [1 1 1 1]]\n"
          ]
        }
      ],
      "source": [
        "print(d[[-3, -5, -7]])"
      ]
    },
    {
      "cell_type": "code",
      "execution_count": null,
      "metadata": {
        "id": "9g6WshuLgaD7",
        "colab": {
          "base_uri": "https://localhost:8080/"
        },
        "outputId": "ebbe01bc-1891-49e0-85c2-22c5e060812c"
      },
      "outputs": [
        {
          "output_type": "stream",
          "name": "stdout",
          "text": [
            "[[ 0  1  2  3]\n",
            " [ 4  5  6  7]\n",
            " [ 8  9 10 11]\n",
            " [12 13 14 15]\n",
            " [16 17 18 19]\n",
            " [20 21 22 23]\n",
            " [24 25 26 27]\n",
            " [28 29 30 31]] (8, 4)\n"
          ]
        }
      ],
      "source": [
        "e = np.arange(32).reshape(8,4)\n",
        "print(e, e.shape)"
      ]
    },
    {
      "cell_type": "code",
      "execution_count": null,
      "metadata": {
        "id": "zN6fsJdngeO7",
        "colab": {
          "base_uri": "https://localhost:8080/"
        },
        "outputId": "3aaf4092-9ef5-4ed7-8c57-75bbf80d2d74"
      },
      "outputs": [
        {
          "output_type": "stream",
          "name": "stdout",
          "text": [
            "[ 4 23 29 10]\n"
          ]
        }
      ],
      "source": [
        "print(e[[1,5,7,2], [0,3,1,2]])"
      ]
    },
    {
      "cell_type": "code",
      "execution_count": null,
      "metadata": {
        "id": "h5GBqi-Kgwgj",
        "colab": {
          "base_uri": "https://localhost:8080/"
        },
        "outputId": "2a947e24-7386-46da-f1aa-97f9afaef42e"
      },
      "outputs": [
        {
          "output_type": "stream",
          "name": "stdout",
          "text": [
            "[[ 4  7  5  6]\n",
            " [20 23 21 22]\n",
            " [28 31 29 30]\n",
            " [ 8 11  9 10]]\n"
          ]
        }
      ],
      "source": [
        "print(e[[1,5,7,2]][:, [0,3,1,2]])"
      ]
    },
    {
      "cell_type": "markdown",
      "metadata": {
        "id": "jG0z0lDdiAaP"
      },
      "source": [
        "### Transpose"
      ]
    },
    {
      "cell_type": "code",
      "execution_count": null,
      "metadata": {
        "id": "cpdKdNZ4g-Iq",
        "colab": {
          "base_uri": "https://localhost:8080/"
        },
        "outputId": "7a59e3c2-76e5-42a6-8179-2bcab9ec5b16"
      },
      "outputs": [
        {
          "output_type": "stream",
          "name": "stdout",
          "text": [
            "[[[ 0  1  2  3]\n",
            "  [ 4  5  6  7]]\n",
            "\n",
            " [[ 8  9 10 11]\n",
            "  [12 13 14 15]]] (2, 2, 4)\n"
          ]
        }
      ],
      "source": [
        "f = np.arange(16).reshape(2,2,4)\n",
        "print(f, f.shape)"
      ]
    },
    {
      "cell_type": "code",
      "execution_count": null,
      "metadata": {
        "id": "Nd4Re5tXiFhK",
        "colab": {
          "base_uri": "https://localhost:8080/"
        },
        "outputId": "f09b204c-725f-405c-d4f8-d400dfeeaee8"
      },
      "outputs": [
        {
          "output_type": "stream",
          "name": "stdout",
          "text": [
            "[[[ 0  1  2  3]\n",
            "  [ 8  9 10 11]]\n",
            "\n",
            " [[ 4  5  6  7]\n",
            "  [12 13 14 15]]]\n"
          ]
        }
      ],
      "source": [
        "print(f.transpose(1, 0, 2))"
      ]
    },
    {
      "cell_type": "code",
      "execution_count": null,
      "metadata": {
        "id": "LibPPlNsiIw6",
        "colab": {
          "base_uri": "https://localhost:8080/"
        },
        "outputId": "e4031d7d-2bc6-41fb-f2fb-96ccef2b7998"
      },
      "outputs": [
        {
          "output_type": "stream",
          "name": "stdout",
          "text": [
            "[[[ 0  1  2  3]\n",
            "  [ 8  9 10 11]]\n",
            "\n",
            " [[ 4  5  6  7]\n",
            "  [12 13 14 15]]]\n"
          ]
        }
      ],
      "source": [
        "print(f.swapaxes(0, 1))"
      ]
    },
    {
      "cell_type": "markdown",
      "metadata": {
        "id": "pZCOq6PDiV5e"
      },
      "source": [
        "### Numpy 연산"
      ]
    },
    {
      "cell_type": "code",
      "execution_count": null,
      "metadata": {
        "id": "t-9-Vc3EiK9S",
        "colab": {
          "base_uri": "https://localhost:8080/"
        },
        "outputId": "8f222f4f-1a05-4ead-9b4f-8ff5fd775d70"
      },
      "outputs": [
        {
          "output_type": "stream",
          "name": "stdout",
          "text": [
            "[[1. 2.]\n",
            " [3. 4.]]\n",
            "[[5. 6.]\n",
            " [7. 8.]]\n"
          ]
        }
      ],
      "source": [
        "x = np.array([[1,2], [3,4]], dtype=np.float64)\n",
        "y = np.array([[5,6], [7,8]], dtype=np.float64)\n",
        "print(x)\n",
        "print(y)"
      ]
    },
    {
      "cell_type": "code",
      "execution_count": null,
      "metadata": {
        "id": "6UvWrq01jNh3",
        "colab": {
          "base_uri": "https://localhost:8080/"
        },
        "outputId": "43beb624-9e80-4d96-b412-53b32fd7b578"
      },
      "outputs": [
        {
          "output_type": "stream",
          "name": "stdout",
          "text": [
            "[[ 6.  8.]\n",
            " [10. 12.]]\n",
            "[[ 6.  8.]\n",
            " [10. 12.]]\n"
          ]
        }
      ],
      "source": [
        "print(x + y)\n",
        "print(np.add(x, y))"
      ]
    },
    {
      "cell_type": "code",
      "execution_count": null,
      "metadata": {
        "id": "2ZsrTfcJjTnZ",
        "colab": {
          "base_uri": "https://localhost:8080/"
        },
        "outputId": "f7c8b895-f662-471e-8f68-067030c252da"
      },
      "outputs": [
        {
          "output_type": "stream",
          "name": "stdout",
          "text": [
            "[[-4. -4.]\n",
            " [-4. -4.]]\n",
            "[[-4. -4.]\n",
            " [-4. -4.]]\n"
          ]
        }
      ],
      "source": [
        "print(x - y)\n",
        "print(np.subtract(x, y))"
      ]
    },
    {
      "cell_type": "code",
      "execution_count": null,
      "metadata": {
        "id": "5kdMnErqjYUB",
        "colab": {
          "base_uri": "https://localhost:8080/"
        },
        "outputId": "08072086-c150-4179-cce9-1163b96261bc"
      },
      "outputs": [
        {
          "output_type": "stream",
          "name": "stdout",
          "text": [
            "[[ 5. 12.]\n",
            " [21. 32.]]\n",
            "[[ 5. 12.]\n",
            " [21. 32.]]\n"
          ]
        }
      ],
      "source": [
        "print(x * y)\n",
        "print(np.multiply(x, y))"
      ]
    },
    {
      "cell_type": "code",
      "execution_count": null,
      "metadata": {
        "id": "mxYueDx6jcuJ",
        "colab": {
          "base_uri": "https://localhost:8080/"
        },
        "outputId": "caba216e-19ed-4db2-de7f-bea7d48317ca"
      },
      "outputs": [
        {
          "output_type": "stream",
          "name": "stdout",
          "text": [
            "[[0.2        0.33333333]\n",
            " [0.42857143 0.5       ]]\n",
            "[[0.2        0.33333333]\n",
            " [0.42857143 0.5       ]]\n"
          ]
        }
      ],
      "source": [
        "print(x / y)\n",
        "print(np.divide(x, y))"
      ]
    },
    {
      "cell_type": "code",
      "execution_count": null,
      "metadata": {
        "id": "aNbeKWm3jfUh",
        "colab": {
          "base_uri": "https://localhost:8080/"
        },
        "outputId": "a537694e-6511-4c56-a087-8e06d8582c30"
      },
      "outputs": [
        {
          "output_type": "stream",
          "name": "stdout",
          "text": [
            "[[19. 22.]\n",
            " [43. 50.]]\n",
            "[[19. 22.]\n",
            " [43. 50.]]\n"
          ]
        }
      ],
      "source": [
        "print(x @ y)\n",
        "print(np.matmul(x, y))"
      ]
    },
    {
      "cell_type": "code",
      "execution_count": null,
      "metadata": {
        "id": "8mF8SzhJjib5",
        "colab": {
          "base_uri": "https://localhost:8080/"
        },
        "outputId": "fb749e71-b7f6-42cf-af50-859c317d4fad"
      },
      "outputs": [
        {
          "output_type": "stream",
          "name": "stdout",
          "text": [
            "[[ 1  2  3  4  5]\n",
            " [ 6  7  8  9 10]]\n"
          ]
        }
      ],
      "source": [
        "z = np.arange(1, 11).reshape(2, 5)\n",
        "print(z)"
      ]
    },
    {
      "cell_type": "code",
      "execution_count": null,
      "metadata": {
        "id": "5l3gfvRgj9Dp",
        "colab": {
          "base_uri": "https://localhost:8080/"
        },
        "outputId": "28df1f29-c011-425d-a2b9-a2d1b2f69d10"
      },
      "outputs": [
        {
          "output_type": "stream",
          "name": "stdout",
          "text": [
            "55\n"
          ]
        }
      ],
      "source": [
        "print(np.sum(z))"
      ]
    },
    {
      "cell_type": "code",
      "execution_count": null,
      "metadata": {
        "id": "8HI9rCNrj_bB",
        "colab": {
          "base_uri": "https://localhost:8080/"
        },
        "outputId": "bb806625-7e35-48af-9693-f02167cbe55e"
      },
      "outputs": [
        {
          "output_type": "stream",
          "name": "stdout",
          "text": [
            "[ 7  9 11 13 15] (5,)\n",
            "[15 40] (2,)\n",
            "[15 40] (2,)\n"
          ]
        }
      ],
      "source": [
        "sum1 = np.sum(z, axis=0)\n",
        "sum2 = np.sum(z, axis=1)\n",
        "sum3 = np.sum(z, axis=-1)\n",
        "print(sum1, sum1.shape)\n",
        "print(sum2, sum2.shape)\n",
        "print(sum3, sum3.shape)"
      ]
    },
    {
      "cell_type": "markdown",
      "metadata": {
        "id": "RTiUAKLUkPQv"
      },
      "source": [
        "여기서 축(axis)은 각 배열의 차원에 해당되는 index 입니다.\n",
        "\n",
        "axis=0에 대하여 sum을 하라는 것은 0번 축 혹은 차원이 없어지는 방향으로 원소들을 모두 더하라는 얘기입니다.\n",
        "\n",
        "즉, 위 예에서 sum1의 경우, z[0,:]+z[1,:]의 연산을 하라는 의미이고,\n",
        "\n",
        "sum2의 경우에는 z[:,0]+z[:,1]+z[:,2]+z[:,3]+z[:,4]의 연산을 하라는 의미입니다."
      ]
    },
    {
      "cell_type": "code",
      "execution_count": null,
      "metadata": {
        "id": "S6PvVtr8kDJY",
        "colab": {
          "base_uri": "https://localhost:8080/"
        },
        "outputId": "d0aca713-60e5-42d4-9310-47df30c9118b"
      },
      "outputs": [
        {
          "output_type": "stream",
          "name": "stdout",
          "text": [
            "[ 7  9 11 13 15]\n"
          ]
        }
      ],
      "source": [
        "print(z[0,:] + z[1,:])"
      ]
    },
    {
      "cell_type": "code",
      "execution_count": null,
      "metadata": {
        "id": "QsHzk7AFlhed",
        "colab": {
          "base_uri": "https://localhost:8080/"
        },
        "outputId": "92fc06b4-a719-4668-9937-e705f05e4aa6"
      },
      "outputs": [
        {
          "output_type": "stream",
          "name": "stdout",
          "text": [
            "[15 40]\n"
          ]
        }
      ],
      "source": [
        "print(z[:,0] + z[:,1] + z[:,2] + z[:,3] + z[:,4])"
      ]
    },
    {
      "cell_type": "markdown",
      "metadata": {
        "id": "9ClMgTUwmCUt"
      },
      "source": [
        "### Broadcasting\n",
        "\n",
        "Broadcasting은 numpy가 산술 연산을 수행 할 때 다른 모양의 배열로 작업 할 수있게 해주는 강력한 메커니즘입니다. 종종 더 작은 배열과 더 큰 배열이 있을 때 더 작은 배열을 여러 번 사용하여 더 큰 배열에서 어떤 연산을 수행하기를 원할 때가 있습니다.\n",
        "\n",
        "예를 들어, 행렬의 각 행에 상수 벡터를 추가하려 한다고 가정합시다. numpy에서는 다음과 같이 할 수 있습니다."
      ]
    },
    {
      "cell_type": "code",
      "execution_count": null,
      "metadata": {
        "id": "nGIMd2pjlnY_"
      },
      "outputs": [],
      "source": [
        "x = np.array([[1,2,3], [4,5,6], [7,8,9], [10,11,12]])\n",
        "y = np.array([1,0,2])"
      ]
    },
    {
      "cell_type": "code",
      "execution_count": null,
      "metadata": {
        "id": "UgSTqLHpmZH3",
        "colab": {
          "base_uri": "https://localhost:8080/"
        },
        "outputId": "fc803374-8321-4bad-9127-c69054549fc1"
      },
      "outputs": [
        {
          "output_type": "stream",
          "name": "stdout",
          "text": [
            "[[ 1  2  3]\n",
            " [ 4  5  6]\n",
            " [ 7  8  9]\n",
            " [10 11 12]] (4, 3)\n",
            "[1 0 2] (3,)\n"
          ]
        }
      ],
      "source": [
        "print(x, x.shape)\n",
        "print(y, y.shape)"
      ]
    },
    {
      "cell_type": "code",
      "execution_count": null,
      "metadata": {
        "id": "oCmF2ZEomeL_",
        "colab": {
          "base_uri": "https://localhost:8080/"
        },
        "outputId": "6324ad0e-322d-4f3b-c98a-9e6d469983f1"
      },
      "outputs": [
        {
          "output_type": "stream",
          "name": "stdout",
          "text": [
            "[[ 2  2  5]\n",
            " [ 5  5  8]\n",
            " [ 8  8 11]\n",
            " [11 11 14]] (4, 3)\n"
          ]
        }
      ],
      "source": [
        "z = x + y\n",
        "print(z, z.shape)"
      ]
    },
    {
      "cell_type": "markdown",
      "metadata": {
        "id": "truyZgyTm8_7"
      },
      "source": [
        "z = x + y 는 broadcasting으로 인해 x가 shape (4, 3)이고 y가 shape (3)인데도 작동합니다. 이 행은 y가 실제로 shape (4, 3)인 것처럼 작동합니다. 각 행은 y의 사본이었고, 합계는 요소별로 수행되었습니다.\n",
        "\n",
        "두 개의 배열을 브로드캐스팅하는 것은 다음 규칙을 따릅니다.\n",
        "\n",
        "1. 배열의 랭크가 같지 않으면 두 모양이 같은 길이가 될 때까지 배열의 낮은 랭크쪽에 1을 붙입니다.\n",
        "2. 두 배열은 차원에서 크기가 같거나 배열 중 하나의 차원에 크기가 1 인 경우 차원에서 호환 가능하다고 합니다.\n",
        "3. 배열은 모든 차원에서 호환되면 함께 broadcast 될 수 있습니다.\n",
        "4. Broadcast 후 각 배열은 두 개의 입력 배열의 요소 모양 최대 개수와 동일한 모양을 가진 것처럼 동작합니다.\n",
        "5. 한 배열의 크기가 1이고 다른 배열의 크기가 1보다 큰 차원에서 첫 번째 배열은 마치 해당 차원을 따라 복사 된 것처럼 작동합니다\n",
        "\n",
        "실제로 동작하는 방식을 생각해 봅시다.\n",
        "\n",
        "1. A와 B의 모양을 생각합니다.\n",
        "2. 두 배열이 len(A.shape) == len(B.shape)인지 확인을 합니다.\n",
        "3. 같지 않은 경우에는 두 배열의 모양 길이가 같아질때까지 적은 쪽의 shape 앞에 1 을 추가해 줍니다.\n",
        "- 예: (5,3)–>(1,5,3)\n",
        "4. shape이 1인 곳은 복사가 됩니다.\n",
        "- 예: shape의 변화는 아래와 같게 될겁니다.\n",
        "- (5, 3)+(3,)\n",
        "- (5, 3)+(1, 3)\n",
        "- (5, 3) + (5, 3)\n",
        "- (5, 3)\n",
        "\n",
        "이 설명이 이해가되지 않으면 문서 또는 이 설명을 읽으십시오.\n",
        "\n",
        "https://docs.scipy.org/doc/numpy/user/basics.broadcasting.html\n",
        "\n",
        "http://scipy.github.io/old-wiki/pages/EricsBroadcastingDoc\n",
        "\n",
        "Broadcasting을 지원하는 함수들을 보편 함수라고합니다. 이 문서에서 모든 보편 함수 목록을 찾을 수 있습니다.\n",
        "https://docs.scipy.org/doc/numpy/reference/ufuncs.html#available-ufuncs\n"
      ]
    },
    {
      "cell_type": "code",
      "execution_count": null,
      "metadata": {
        "id": "tzv4ErwlmhgH",
        "colab": {
          "base_uri": "https://localhost:8080/"
        },
        "outputId": "b0821359-9491-493e-b435-9c8d81ada006"
      },
      "outputs": [
        {
          "output_type": "stream",
          "name": "stdout",
          "text": [
            "[[1 2 3]] (1, 3)\n",
            "[[4 5]] (1, 2)\n"
          ]
        }
      ],
      "source": [
        "x = np.array([1,2,3]).reshape(1,3)\n",
        "y = np.array([4,5]).reshape(1,2)\n",
        "print(x, x.shape)\n",
        "print(y, y.shape)"
      ]
    },
    {
      "cell_type": "code",
      "execution_count": null,
      "metadata": {
        "id": "xEcJFtOyn6J2",
        "colab": {
          "base_uri": "https://localhost:8080/",
          "height": 193
        },
        "outputId": "e9dd1a52-06ef-45c5-cf37-6f9c738983e6"
      },
      "outputs": [
        {
          "output_type": "error",
          "ename": "ValueError",
          "evalue": "ignored",
          "traceback": [
            "\u001b[0;31m---------------------------------------------------------------------------\u001b[0m",
            "\u001b[0;31mValueError\u001b[0m                                Traceback (most recent call last)",
            "\u001b[0;32m<ipython-input-150-a56b087de706>\u001b[0m in \u001b[0;36m<module>\u001b[0;34m()\u001b[0m\n\u001b[1;32m      1\u001b[0m \u001b[0;31m# broadcasting 조건에 맞지 않음\u001b[0m\u001b[0;34m\u001b[0m\u001b[0;34m\u001b[0m\u001b[0;34m\u001b[0m\u001b[0m\n\u001b[0;32m----> 2\u001b[0;31m \u001b[0mprint\u001b[0m\u001b[0;34m(\u001b[0m\u001b[0mx\u001b[0m \u001b[0;34m+\u001b[0m \u001b[0my\u001b[0m\u001b[0;34m)\u001b[0m\u001b[0;34m\u001b[0m\u001b[0;34m\u001b[0m\u001b[0m\n\u001b[0m",
            "\u001b[0;31mValueError\u001b[0m: operands could not be broadcast together with shapes (1,3) (1,2) "
          ]
        }
      ],
      "source": [
        "# broadcasting 조건에 맞지 않음\n",
        "print(x + y)"
      ]
    },
    {
      "cell_type": "code",
      "execution_count": null,
      "metadata": {
        "id": "Ho5FjodPn7rW",
        "colab": {
          "base_uri": "https://localhost:8080/"
        },
        "outputId": "0b4963c2-f474-44d0-a225-1d776e1346f3"
      },
      "outputs": [
        {
          "output_type": "stream",
          "name": "stdout",
          "text": [
            "[[4]\n",
            " [5]] (2, 1)\n"
          ]
        }
      ],
      "source": [
        "y = y.swapaxes(0, 1)\n",
        "print(y, y.shape)"
      ]
    },
    {
      "cell_type": "code",
      "execution_count": null,
      "metadata": {
        "id": "6yH754VZoDqe",
        "colab": {
          "base_uri": "https://localhost:8080/"
        },
        "outputId": "73cb0c19-6dca-457c-aa53-8c9a94e5beba"
      },
      "outputs": [
        {
          "output_type": "stream",
          "name": "stdout",
          "text": [
            "[[5 6 7]\n",
            " [6 7 8]]\n"
          ]
        }
      ],
      "source": [
        "# broadcasting 발생\n",
        "print(x + y)"
      ]
    },
    {
      "cell_type": "markdown",
      "metadata": {
        "id": "Hsy7GB7moOqU"
      },
      "source": [
        "### Shape 변경"
      ]
    },
    {
      "cell_type": "code",
      "execution_count": null,
      "metadata": {
        "id": "QTJ9ljZdoFMu",
        "colab": {
          "base_uri": "https://localhost:8080/"
        },
        "outputId": "c4f26a2d-d488-4c7f-c433-d93836efe654"
      },
      "outputs": [
        {
          "output_type": "stream",
          "name": "stdout",
          "text": [
            "[[[ 0  1  2  3]\n",
            "  [ 4  5  6  7]\n",
            "  [ 8  9 10 11]]\n",
            "\n",
            " [[12 13 14 15]\n",
            "  [16 17 18 19]\n",
            "  [20 21 22 23]]] (2, 3, 4)\n"
          ]
        }
      ],
      "source": [
        "a = np.arange(24).reshape(2,3,4)\n",
        "print(a, a.shape)"
      ]
    },
    {
      "cell_type": "code",
      "execution_count": null,
      "metadata": {
        "id": "Uhv1BBmuoZuO",
        "colab": {
          "base_uri": "https://localhost:8080/"
        },
        "outputId": "54d92d1c-8ba5-44e4-a630-3a5b3f97b330"
      },
      "outputs": [
        {
          "output_type": "stream",
          "name": "stdout",
          "text": [
            "[[ 0  1  2  3  4  5]\n",
            " [ 6  7  8  9 10 11]\n",
            " [12 13 14 15 16 17]\n",
            " [18 19 20 21 22 23]] (4, 6)\n"
          ]
        }
      ],
      "source": [
        "a = a.reshape(4, -1)\n",
        "print(a, a.shape)"
      ]
    },
    {
      "cell_type": "code",
      "execution_count": null,
      "metadata": {
        "id": "wyv3HPZjoexG",
        "colab": {
          "base_uri": "https://localhost:8080/"
        },
        "outputId": "2c958ec7-6270-478f-8a3f-9a035906dc4d"
      },
      "outputs": [
        {
          "output_type": "stream",
          "name": "stdout",
          "text": [
            "[[[ 0]\n",
            "  [ 1]\n",
            "  [ 2]\n",
            "  [ 3]\n",
            "  [ 4]\n",
            "  [ 5]]\n",
            "\n",
            " [[ 6]\n",
            "  [ 7]\n",
            "  [ 8]\n",
            "  [ 9]\n",
            "  [10]\n",
            "  [11]]\n",
            "\n",
            " [[12]\n",
            "  [13]\n",
            "  [14]\n",
            "  [15]\n",
            "  [16]\n",
            "  [17]]\n",
            "\n",
            " [[18]\n",
            "  [19]\n",
            "  [20]\n",
            "  [21]\n",
            "  [22]\n",
            "  [23]]] (4, 6, 1)\n"
          ]
        }
      ],
      "source": [
        "a = a[..., np.newaxis]\n",
        "print(a, a.shape)"
      ]
    },
    {
      "cell_type": "code",
      "execution_count": null,
      "metadata": {
        "id": "jQ1jTx3yond-",
        "colab": {
          "base_uri": "https://localhost:8080/"
        },
        "outputId": "df2f72a9-ec6c-4a64-fa63-6c56c57c7ca1"
      },
      "outputs": [
        {
          "output_type": "stream",
          "name": "stdout",
          "text": [
            "[[[ 0  1  2  3  4  5]\n",
            "  [ 6  7  8  9 10 11]\n",
            "  [12 13 14 15 16 17]\n",
            "  [18 19 20 21 22 23]]] (1, 4, 6)\n"
          ]
        }
      ],
      "source": [
        "a = a.reshape(4, 6)\n",
        "a = np.expand_dims(a, axis=0)\n",
        "print(a, a.shape)"
      ]
    },
    {
      "cell_type": "code",
      "execution_count": null,
      "metadata": {
        "id": "-5pQWo_FoyZu",
        "colab": {
          "base_uri": "https://localhost:8080/"
        },
        "outputId": "9b51b08c-eff1-4d81-e61b-395ed07a3664"
      },
      "outputs": [
        {
          "output_type": "stream",
          "name": "stdout",
          "text": [
            "[[[ 0  1  2  3  4  5]\n",
            "  [ 6  7  8  9 10 11]\n",
            "  [12 13 14 15 16 17]\n",
            "  [18 19 20 21 22 23]]] (1, 4, 6)\n"
          ]
        }
      ],
      "source": [
        "b = a.copy()\n",
        "print(b, b.shape)"
      ]
    },
    {
      "cell_type": "code",
      "execution_count": null,
      "metadata": {
        "id": "fwaEn29To4VW",
        "colab": {
          "base_uri": "https://localhost:8080/"
        },
        "outputId": "f1ac5522-24cd-4cfc-d423-c6fa2fe8389f"
      },
      "outputs": [
        {
          "output_type": "stream",
          "name": "stdout",
          "text": [
            "[[[ 0  1  2  3  4  5  0  1  2  3  4  5]\n",
            "  [ 6  7  8  9 10 11  6  7  8  9 10 11]\n",
            "  [12 13 14 15 16 17 12 13 14 15 16 17]\n",
            "  [18 19 20 21 22 23 18 19 20 21 22 23]]] (1, 4, 12)\n"
          ]
        }
      ],
      "source": [
        "c = np.concatenate((a, b), axis=-1)\n",
        "print(c, c.shape)"
      ]
    },
    {
      "cell_type": "code",
      "execution_count": null,
      "metadata": {
        "id": "22ZnBHtZo90m",
        "colab": {
          "base_uri": "https://localhost:8080/"
        },
        "outputId": "3c7957aa-55a0-447b-bc24-813e18afa21e"
      },
      "outputs": [
        {
          "output_type": "stream",
          "name": "stdout",
          "text": [
            "[[[ 0  1  2  3  4  5]\n",
            "  [ 6  7  8  9 10 11]\n",
            "  [12 13 14 15 16 17]\n",
            "  [18 19 20 21 22 23]]\n",
            "\n",
            " [[ 0  1  2  3  4  5]\n",
            "  [ 6  7  8  9 10 11]\n",
            "  [12 13 14 15 16 17]\n",
            "  [18 19 20 21 22 23]]] (2, 4, 6)\n"
          ]
        }
      ],
      "source": [
        "c = np.concatenate((a, b), axis=0)\n",
        "print(c, c.shape)"
      ]
    },
    {
      "cell_type": "code",
      "execution_count": null,
      "metadata": {
        "id": "QmL0JoQzpWer",
        "colab": {
          "base_uri": "https://localhost:8080/"
        },
        "outputId": "0f9d85f4-498c-4d45-ed03-3961d4b2cc74"
      },
      "outputs": [
        {
          "output_type": "stream",
          "name": "stdout",
          "text": [
            "[[[[ 0  0]\n",
            "   [ 1  1]\n",
            "   [ 2  2]\n",
            "   [ 3  3]\n",
            "   [ 4  4]\n",
            "   [ 5  5]]\n",
            "\n",
            "  [[ 6  6]\n",
            "   [ 7  7]\n",
            "   [ 8  8]\n",
            "   [ 9  9]\n",
            "   [10 10]\n",
            "   [11 11]]\n",
            "\n",
            "  [[12 12]\n",
            "   [13 13]\n",
            "   [14 14]\n",
            "   [15 15]\n",
            "   [16 16]\n",
            "   [17 17]]\n",
            "\n",
            "  [[18 18]\n",
            "   [19 19]\n",
            "   [20 20]\n",
            "   [21 21]\n",
            "   [22 22]\n",
            "   [23 23]]]] (1, 4, 6, 2)\n"
          ]
        }
      ],
      "source": [
        "d = np.stack((a, b), axis=-1)\n",
        "print(d, d.shape)"
      ]
    },
    {
      "cell_type": "code",
      "execution_count": null,
      "metadata": {
        "id": "xwo8TUyIpCqW",
        "colab": {
          "base_uri": "https://localhost:8080/"
        },
        "outputId": "b9735c36-6650-47c2-a031-a4304412bc4f"
      },
      "outputs": [
        {
          "output_type": "stream",
          "name": "stdout",
          "text": [
            "[[[[ 0  1  2  3  4  5]\n",
            "   [ 6  7  8  9 10 11]\n",
            "   [12 13 14 15 16 17]\n",
            "   [18 19 20 21 22 23]]]\n",
            "\n",
            "\n",
            " [[[ 0  1  2  3  4  5]\n",
            "   [ 6  7  8  9 10 11]\n",
            "   [12 13 14 15 16 17]\n",
            "   [18 19 20 21 22 23]]]] (2, 1, 4, 6)\n"
          ]
        }
      ],
      "source": [
        "d = np.stack((a, b), axis=0)\n",
        "print(d, d.shape)"
      ]
    },
    {
      "cell_type": "code",
      "execution_count": null,
      "metadata": {
        "id": "xLS8zMLApi-U"
      },
      "outputs": [],
      "source": []
    }
  ],
  "metadata": {
    "colab": {
      "collapsed_sections": [],
      "provenance": [],
      "toc_visible": true,
      "include_colab_link": true
    },
    "kernelspec": {
      "display_name": "Python 3 (ipykernel)",
      "language": "python",
      "name": "python3"
    },
    "language_info": {
      "name": "python"
    }
  },
  "nbformat": 4,
  "nbformat_minor": 0
}